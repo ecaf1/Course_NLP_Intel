{
 "cells": [
  {
   "cell_type": "markdown",
   "metadata": {},
   "source": [
    "# Deep Learning Text Search with Word2Vec, Doc2Vec, and LSTM\n",
    "\n",
    "Esse notebook tem como principal objetivo descutir alguns problemas proposto a parti de abordagens de apresentadas no curso de Processamento de Linguagem Natural-PLN, ministrado pelo professor [Dr. Thales Vieira](https://ic.ufal.br/professor/thales/).\n",
    "\n",
    "### Problemas propostos \n",
    "* Construção de um mecanismo de busca de palavras e documentos\n",
    "* Desenvolvimento de algoritmos de similaridade semântica\n",
    "* Busca de documentos usando Doc2Vec\n",
    "* Modelos baseados em LSTM para recuperação de textos\n",
    "* Análise linguística e extração de informações com spaCy\n",
    "* Tradução entre idiomas utilizando redes seqüenciais"
   ]
  },
  {
   "cell_type": "code",
   "execution_count": 2,
   "metadata": {},
   "outputs": [],
   "source": [
    "# Bibliotecas usadas\n",
    "import os\n",
    "import sys\n",
    "import warnings\n",
    "\n",
    "sys.path.append(os.path.abspath('..'))\n",
    "warnings.filterwarnings('ignore')\n",
    "\n",
    "import pandas as pd\n",
    "import spacy\n",
    "!python -m spacy download en_core_web_sm\n",
    "\n",
    "from scripts.ulteis import preprocess"
   ]
  },
  {
   "cell_type": "code",
   "execution_count": 2,
   "metadata": {},
   "outputs": [
    {
     "ename": "NameError",
     "evalue": "name 'pd' is not defined",
     "output_type": "error",
     "traceback": [
      "\u001b[0;31m---------------------------------------------------------------------------\u001b[0m",
      "\u001b[0;31mNameError\u001b[0m                                 Traceback (most recent call last)",
      "Cell \u001b[0;32mIn[2], line 1\u001b[0m\n\u001b[0;32m----> 1\u001b[0m bbc_df \u001b[38;5;241m=\u001b[39m \u001b[43mpd\u001b[49m\u001b[38;5;241m.\u001b[39mread_csv(\u001b[38;5;124m\"\u001b[39m\u001b[38;5;124m../data/bbc_data.csv\u001b[39m\u001b[38;5;124m\"\u001b[39m)\n\u001b[1;32m      3\u001b[0m text_df \u001b[38;5;241m=\u001b[39m bbc_df[\u001b[38;5;124m\"\u001b[39m\u001b[38;5;124mdata\u001b[39m\u001b[38;5;124m\"\u001b[39m]\u001b[38;5;241m.\u001b[39mapply(preprocess)\n\u001b[1;32m      4\u001b[0m labels_df \u001b[38;5;241m=\u001b[39m bbc_df[\u001b[38;5;124m\"\u001b[39m\u001b[38;5;124mlabels\u001b[39m\u001b[38;5;124m\"\u001b[39m]\n",
      "\u001b[0;31mNameError\u001b[0m: name 'pd' is not defined"
     ]
    }
   ],
   "source": [
    "bbc_df = pd.read_csv(\"../data/bbc_data.csv\")\n",
    "\n",
    "text_df = bbc_df[\"data\"].apply(preprocess)\n",
    "labels_df = bbc_df[\"labels\"]\n",
    "\n",
    "\n",
    "# Dimenção \n",
    "print(X.shape)\n",
    "print(labels_df.value_counts())"
   ]
  },
  {
   "cell_type": "markdown",
   "metadata": {},
   "source": [
    "# Construção de um mecanismo de busca de palavras e documentos\n"
   ]
  }
 ],
 "metadata": {
  "kernelspec": {
   "display_name": "pln-9rzSDTy2-py3.12",
   "language": "python",
   "name": "python3"
  },
  "language_info": {
   "codemirror_mode": {
    "name": "ipython",
    "version": 3
   },
   "file_extension": ".py",
   "mimetype": "text/x-python",
   "name": "python",
   "nbconvert_exporter": "python",
   "pygments_lexer": "ipython3",
   "version": "3.12.3"
  }
 },
 "nbformat": 4,
 "nbformat_minor": 2
}
