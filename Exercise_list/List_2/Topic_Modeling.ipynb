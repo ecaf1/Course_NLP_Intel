{
 "cells": [
  {
   "cell_type": "markdown",
   "metadata": {},
   "source": [
    "# Modelagem de Tópicos com LDA, NMF e SVD\n",
    "Neste notebook, vamos explorar a modelagem de tópicos utilizando três algoritmos diferentes: Latent Dirichlet Allocation (LDA), Non-negative Matrix Factorization (NMF), e Singular Value Decomposition (SVD). Nosso objetivo é encontrar o melhor valor de \\( k \\) (número de tópicos) para cada um desses algoritmos, utilizando métricas específicas a cada um. Por fim, vamos comparar os resultados de cada modelo.\n"
   ]
  },
  {
   "cell_type": "code",
   "execution_count": 1,
   "metadata": {},
   "outputs": [],
   "source": [
    "# Libraries\n",
    "import warnings\n",
    "\n",
    "warnings.filterwarnings('ignore')\n",
    "import re\n",
    "\n",
    "import gensim\n",
    "import matplotlib.pyplot as plt\n",
    "import pandas as pd\n",
    "import pyLDAvis\n",
    "import pyLDAvis.gensim\n",
    "import seaborn as sns\n",
    "from gensim import corpora\n",
    "from gensim.models import CoherenceModel, LdaModel, LsiModel, Nmf\n",
    "from nltk.corpus import stopwords\n",
    "from nltk.stem import WordNetLemmatizer\n",
    "from nltk.tokenize import word_tokenize\n",
    "from sklearn.feature_extraction.text import CountVectorizer, TfidfVectorizer\n",
    "from sklearn.linear_model import LogisticRegression\n",
    "from sklearn.metrics import (accuracy_score, confusion_matrix, f1_score,\n",
    "                             precision_score, recall_score)\n",
    "from sklearn.model_selection import train_test_split\n",
    "from sklearn.naive_bayes import MultinomialNB\n",
    "from sklearn.svm import LinearSVC"
   ]
  },
  {
   "cell_type": "markdown",
   "metadata": {},
   "source": [
    "## Modelagem de Tópicos com LDA\n",
    "O **Latent Dirichlet Allocation (LDA)** é um modelo probabilístico que gera uma distribuição de tópicos para um conjunto de documentos. Vamos utilizar as métricas de **coerência de tópicos** e **perplexidade** para encontrar o melhor número de tópicos \\( k \\).\n",
    "\n"
   ]
  },
  {
   "cell_type": "markdown",
   "metadata": {},
   "source": [
    "## Leitura dos dados"
   ]
  },
  {
   "cell_type": "markdown",
   "metadata": {},
   "source": [
    "### Análise dos Resultados do LDA\n",
    "Com base no gráfico de coerência, podemos selecionar o valor de \\( k \\) que maximiza a coerência dos tópicos. Também consideraremos a **perplexidade** para refinar a escolha de \\( k \\).\n"
   ]
  },
  {
   "cell_type": "markdown",
   "metadata": {},
   "source": [
    "## Modelagem de Tópicos com NMF\n",
    "O **Non-negative Matrix Factorization (NMF)** é um algoritmo de decomposição matricial que fatoriza a matriz de documentos em componentes não-negativos. Vamos otimizar \\( k \\) utilizando o **erro de reconstrução**.\n"
   ]
  },
  {
   "cell_type": "markdown",
   "metadata": {},
   "source": [
    "### Análise dos Resultados do NMF\n",
    "Aqui analisamos o **erro de reconstrução** para encontrar o melhor número de tópicos. Menores valores de erro indicam uma melhor qualidade na decomposição dos tópicos.\n"
   ]
  },
  {
   "cell_type": "markdown",
   "metadata": {},
   "source": [
    "## Modelagem de Tópicos com SVD\n",
    "O **Singular Value Decomposition (SVD)** é uma técnica de fatoração matricial. Vamos utilizar a **variância explicada** e **validação cruzada** para definir o número ideal de componentes \\( k \\).\n"
   ]
  },
  {
   "cell_type": "markdown",
   "metadata": {},
   "source": [
    "### Análise dos Resultados do SVD\n"
   ]
  },
  {
   "cell_type": "markdown",
   "metadata": {},
   "source": []
  }
 ],
 "metadata": {
  "kernelspec": {
   "display_name": "pln-LPbjoYHC-py3.12",
   "language": "python",
   "name": "python3"
  },
  "language_info": {
   "codemirror_mode": {
    "name": "ipython",
    "version": 3
   },
   "file_extension": ".py",
   "mimetype": "text/x-python",
   "name": "python",
   "nbconvert_exporter": "python",
   "pygments_lexer": "ipython3",
   "version": "3.12.3"
  }
 },
 "nbformat": 4,
 "nbformat_minor": 2
}
